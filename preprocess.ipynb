{
 "cells": [
  {
   "cell_type": "code",
   "execution_count": 1,
   "id": "7d945b1e",
   "metadata": {},
   "outputs": [],
   "source": [
    "import numpy as np\n",
    "import pandas as pd"
   ]
  },
  {
   "cell_type": "code",
   "execution_count": 6,
   "id": "0690fa3e",
   "metadata": {},
   "outputs": [],
   "source": [
    "oo2013 = pd.read_csv('../../Data/Data/R301_OO/OO2013.csv', dtype=str)"
   ]
  },
  {
   "cell_type": "code",
   "execution_count": 7,
   "id": "6756eb8e",
   "metadata": {},
   "outputs": [],
   "source": [
    "cd = pd.read_csv('../../Data/Data/CD.csv', dtype=str)"
   ]
  },
  {
   "cell_type": "code",
   "execution_count": 9,
   "id": "0369e1a5",
   "metadata": {},
   "outputs": [
    {
     "name": "stdout",
     "output_type": "stream",
     "text": [
      "Index(['FEE_YM', 'APPL_TYPE', 'HOSP_ID', 'APPL_DATE', 'CASE_TYPE', 'SEQ_NO',\n",
      "       'ORDER_TYPE', 'DRUG_NO', 'DRUG_USE', 'DRUG_FRE', 'UNIT_PRICE',\n",
      "       'TOTAL_QTY', 'TOTAL_AMT', 'SEQ'],\n",
      "      dtype='object')\n",
      "3537730\n"
     ]
    }
   ],
   "source": [
    "print(oo2013.columns)\n",
    "print(len(oo2013))"
   ]
  },
  {
   "cell_type": "code",
   "execution_count": 10,
   "id": "55c847f4",
   "metadata": {},
   "outputs": [
    {
     "name": "stdout",
     "output_type": "stream",
     "text": [
      "Index(['FEE_YM', 'APPL_TYPE', 'HOSP_ID', 'APPL_DATE', 'CASE_TYPE', 'SEQ_NO',\n",
      "       'CURE_ITEM_NO1', 'CURE_ITEM_NO2', 'CURE_ITEM_NO3', 'CURE_ITEM_NO4',\n",
      "       'FUNC_TYPE', 'FUNC_DATE', 'ID_BIRTHDAY', 'ID', 'ACODE_ICD9_1',\n",
      "       'ACODE_ICD9_2', 'ACODE_ICD9_3', 'ICD_OP_CODE', 'DRUG_DAY', 'MED_TYPE',\n",
      "       'ID_SEX'],\n",
      "      dtype='object')\n",
      "9464315\n"
     ]
    }
   ],
   "source": [
    "print(cd.columns)\n",
    "print(len(cd))"
   ]
  },
  {
   "cell_type": "code",
   "execution_count": 23,
   "id": "6756a9d1",
   "metadata": {},
   "outputs": [],
   "source": [
    "cd_ = cd[cd['ACODE_ICD9_1'] == '465.9']\n",
    "cd_ = cd_[cd_['ID_SEX'] == 'M']"
   ]
  },
  {
   "cell_type": "code",
   "execution_count": 24,
   "id": "5bf81e92",
   "metadata": {},
   "outputs": [
    {
     "name": "stdout",
     "output_type": "stream",
     "text": [
      "323071\n"
     ]
    }
   ],
   "source": [
    "print(len(cd_))"
   ]
  },
  {
   "cell_type": "code",
   "execution_count": 25,
   "id": "54ac6e86",
   "metadata": {},
   "outputs": [],
   "source": [
    "pk = ['FEE_YM', 'APPL_TYPE', 'HOSP_ID', 'APPL_DATE', 'SEQ_NO', 'CASE_TYPE']\n",
    "oo_cd = pd.merge(oo2013, cd_, on=pk)"
   ]
  },
  {
   "cell_type": "code",
   "execution_count": 26,
   "id": "cc9c6f11",
   "metadata": {},
   "outputs": [
    {
     "name": "stdout",
     "output_type": "stream",
     "text": [
      "94728\n"
     ]
    }
   ],
   "source": [
    "print(len(oo_cd))"
   ]
  },
  {
   "cell_type": "code",
   "execution_count": 27,
   "id": "29fbec3b",
   "metadata": {},
   "outputs": [
    {
     "data": {
      "text/html": [
       "<div>\n",
       "<style scoped>\n",
       "    .dataframe tbody tr th:only-of-type {\n",
       "        vertical-align: middle;\n",
       "    }\n",
       "\n",
       "    .dataframe tbody tr th {\n",
       "        vertical-align: top;\n",
       "    }\n",
       "\n",
       "    .dataframe thead th {\n",
       "        text-align: right;\n",
       "    }\n",
       "</style>\n",
       "<table border=\"1\" class=\"dataframe\">\n",
       "  <thead>\n",
       "    <tr style=\"text-align: right;\">\n",
       "      <th></th>\n",
       "      <th>G</th>\n",
       "      <th>A</th>\n",
       "      <th>D</th>\n",
       "      <th>M</th>\n",
       "      <th>AD</th>\n",
       "    </tr>\n",
       "  </thead>\n",
       "  <tbody>\n",
       "    <tr>\n",
       "      <th>0</th>\n",
       "      <td>M</td>\n",
       "      <td>1995-03-01</td>\n",
       "      <td>465.9</td>\n",
       "      <td>00109C</td>\n",
       "      <td>20130206</td>\n",
       "    </tr>\n",
       "    <tr>\n",
       "      <th>1</th>\n",
       "      <td>M</td>\n",
       "      <td>1995-03-01</td>\n",
       "      <td>465.9</td>\n",
       "      <td>A008907100</td>\n",
       "      <td>20130206</td>\n",
       "    </tr>\n",
       "    <tr>\n",
       "      <th>2</th>\n",
       "      <td>M</td>\n",
       "      <td>1995-03-01</td>\n",
       "      <td>465.9</td>\n",
       "      <td>A0449771G0</td>\n",
       "      <td>20130206</td>\n",
       "    </tr>\n",
       "    <tr>\n",
       "      <th>3</th>\n",
       "      <td>M</td>\n",
       "      <td>1995-03-01</td>\n",
       "      <td>465.9</td>\n",
       "      <td>A045972100</td>\n",
       "      <td>20130206</td>\n",
       "    </tr>\n",
       "    <tr>\n",
       "      <th>4</th>\n",
       "      <td>M</td>\n",
       "      <td>1937-09-01</td>\n",
       "      <td>465.9</td>\n",
       "      <td>00109C</td>\n",
       "      <td>20130206</td>\n",
       "    </tr>\n",
       "  </tbody>\n",
       "</table>\n",
       "</div>"
      ],
      "text/plain": [
       "   G           A      D           M        AD\n",
       "0  M  1995-03-01  465.9      00109C  20130206\n",
       "1  M  1995-03-01  465.9  A008907100  20130206\n",
       "2  M  1995-03-01  465.9  A0449771G0  20130206\n",
       "3  M  1995-03-01  465.9  A045972100  20130206\n",
       "4  M  1937-09-01  465.9      00109C  20130206"
      ]
     },
     "execution_count": 27,
     "metadata": {},
     "output_type": "execute_result"
    }
   ],
   "source": [
    "variables = ['ID_SEX', 'ID_BIRTHDAY', 'ACODE_ICD9_1', 'DRUG_NO', 'APPL_DATE']\n",
    "oo_cd = oo_cd[variables]\n",
    "\n",
    "oo_cd.columns = ['G', 'A', 'D', 'M', 'AD']\n",
    "oo_cd.head()"
   ]
  },
  {
   "cell_type": "code",
   "execution_count": 29,
   "id": "b3a74c53",
   "metadata": {},
   "outputs": [],
   "source": [
    "# from tqdm import tqdm\n",
    "\n",
    "def get_age(birthday, appl_date):\n",
    "    # Calculate the age from birthday to apply date\n",
    "    # [:4] -> return the 4 first digits as the year\n",
    "    return int(appl_date[:4]) - int(birthday[:4])\n",
    "\n",
    "ages = oo_cd['A'].values\n",
    "appl_dates = oo_cd['AD'].values\n",
    "ages_range = []\n",
    "\n",
    "for i in (range(len(ages))):\n",
    "    if type(ages[i]) == str:\n",
    "        age = get_age(ages[i], appl_dates[i])\n",
    "        age_text = '>65'\n",
    "        if age < 18:\n",
    "            age_text = '<18'\n",
    "        elif age <= 30:\n",
    "            age_text = '18<=30'\n",
    "        elif age <= 50:\n",
    "            age_text = '31<=50'\n",
    "        elif age <= 65:\n",
    "            age_text = '51<=65'\n",
    "        else:\n",
    "            age_text = '>65'\n",
    "\n",
    "        ages_range.append(age)\n",
    "\n",
    "oo_cd['A'] = ages_range"
   ]
  },
  {
   "cell_type": "code",
   "execution_count": 30,
   "id": "7a065b4d",
   "metadata": {},
   "outputs": [
    {
     "data": {
      "text/html": [
       "<div>\n",
       "<style scoped>\n",
       "    .dataframe tbody tr th:only-of-type {\n",
       "        vertical-align: middle;\n",
       "    }\n",
       "\n",
       "    .dataframe tbody tr th {\n",
       "        vertical-align: top;\n",
       "    }\n",
       "\n",
       "    .dataframe thead th {\n",
       "        text-align: right;\n",
       "    }\n",
       "</style>\n",
       "<table border=\"1\" class=\"dataframe\">\n",
       "  <thead>\n",
       "    <tr style=\"text-align: right;\">\n",
       "      <th></th>\n",
       "      <th>G</th>\n",
       "      <th>A</th>\n",
       "      <th>D</th>\n",
       "      <th>M</th>\n",
       "    </tr>\n",
       "  </thead>\n",
       "  <tbody>\n",
       "    <tr>\n",
       "      <th>0</th>\n",
       "      <td>M</td>\n",
       "      <td>18</td>\n",
       "      <td>465.9</td>\n",
       "      <td>00109C</td>\n",
       "    </tr>\n",
       "    <tr>\n",
       "      <th>1</th>\n",
       "      <td>M</td>\n",
       "      <td>18</td>\n",
       "      <td>465.9</td>\n",
       "      <td>A008907100</td>\n",
       "    </tr>\n",
       "    <tr>\n",
       "      <th>2</th>\n",
       "      <td>M</td>\n",
       "      <td>18</td>\n",
       "      <td>465.9</td>\n",
       "      <td>A0449771G0</td>\n",
       "    </tr>\n",
       "    <tr>\n",
       "      <th>3</th>\n",
       "      <td>M</td>\n",
       "      <td>18</td>\n",
       "      <td>465.9</td>\n",
       "      <td>A045972100</td>\n",
       "    </tr>\n",
       "    <tr>\n",
       "      <th>4</th>\n",
       "      <td>M</td>\n",
       "      <td>76</td>\n",
       "      <td>465.9</td>\n",
       "      <td>00109C</td>\n",
       "    </tr>\n",
       "  </tbody>\n",
       "</table>\n",
       "</div>"
      ],
      "text/plain": [
       "   G   A      D           M\n",
       "0  M  18  465.9      00109C\n",
       "1  M  18  465.9  A008907100\n",
       "2  M  18  465.9  A0449771G0\n",
       "3  M  18  465.9  A045972100\n",
       "4  M  76  465.9      00109C"
      ]
     },
     "execution_count": 30,
     "metadata": {},
     "output_type": "execute_result"
    }
   ],
   "source": [
    "oo_cd = oo_cd.drop(columns='AD')\n",
    "oo_cd.head()"
   ]
  },
  {
   "cell_type": "code",
   "execution_count": 32,
   "id": "8bfb73d2",
   "metadata": {},
   "outputs": [
    {
     "name": "stdout",
     "output_type": "stream",
     "text": [
      "1507\n"
     ]
    },
    {
     "data": {
      "text/html": [
       "<div>\n",
       "<style scoped>\n",
       "    .dataframe tbody tr th:only-of-type {\n",
       "        vertical-align: middle;\n",
       "    }\n",
       "\n",
       "    .dataframe tbody tr th {\n",
       "        vertical-align: top;\n",
       "    }\n",
       "\n",
       "    .dataframe thead th {\n",
       "        text-align: right;\n",
       "    }\n",
       "</style>\n",
       "<table border=\"1\" class=\"dataframe\">\n",
       "  <thead>\n",
       "    <tr style=\"text-align: right;\">\n",
       "      <th></th>\n",
       "      <th>G</th>\n",
       "      <th>A</th>\n",
       "      <th>D</th>\n",
       "      <th>M</th>\n",
       "    </tr>\n",
       "  </thead>\n",
       "  <tbody>\n",
       "    <tr>\n",
       "      <th>261</th>\n",
       "      <td>M</td>\n",
       "      <td>10</td>\n",
       "      <td>465.9</td>\n",
       "      <td>00116C</td>\n",
       "    </tr>\n",
       "    <tr>\n",
       "      <th>262</th>\n",
       "      <td>M</td>\n",
       "      <td>10</td>\n",
       "      <td>465.9</td>\n",
       "      <td>MA1</td>\n",
       "    </tr>\n",
       "    <tr>\n",
       "      <th>263</th>\n",
       "      <td>M</td>\n",
       "      <td>10</td>\n",
       "      <td>465.9</td>\n",
       "      <td>A018091100</td>\n",
       "    </tr>\n",
       "    <tr>\n",
       "      <th>264</th>\n",
       "      <td>M</td>\n",
       "      <td>10</td>\n",
       "      <td>465.9</td>\n",
       "      <td>A038462100</td>\n",
       "    </tr>\n",
       "    <tr>\n",
       "      <th>265</th>\n",
       "      <td>M</td>\n",
       "      <td>10</td>\n",
       "      <td>465.9</td>\n",
       "      <td>AC12051100</td>\n",
       "    </tr>\n",
       "  </tbody>\n",
       "</table>\n",
       "</div>"
      ],
      "text/plain": [
       "     G   A      D           M\n",
       "261  M  10  465.9      00116C\n",
       "262  M  10  465.9         MA1\n",
       "263  M  10  465.9  A018091100\n",
       "264  M  10  465.9  A038462100\n",
       "265  M  10  465.9  AC12051100"
      ]
     },
     "execution_count": 32,
     "metadata": {},
     "output_type": "execute_result"
    }
   ],
   "source": [
    "oo_cd_10 = oo_cd[oo_cd['A'] == 10]\n",
    "print(len(oo_cd_10))\n",
    "oo_cd_10.head()"
   ]
  },
  {
   "cell_type": "code",
   "execution_count": null,
   "id": "45391198",
   "metadata": {},
   "outputs": [],
   "source": []
  }
 ],
 "metadata": {
  "kernelspec": {
   "display_name": "Python 3 (ipykernel)",
   "language": "python",
   "name": "python3"
  },
  "language_info": {
   "codemirror_mode": {
    "name": "ipython",
    "version": 3
   },
   "file_extension": ".py",
   "mimetype": "text/x-python",
   "name": "python",
   "nbconvert_exporter": "python",
   "pygments_lexer": "ipython3",
   "version": "3.8.10"
  }
 },
 "nbformat": 4,
 "nbformat_minor": 5
}
